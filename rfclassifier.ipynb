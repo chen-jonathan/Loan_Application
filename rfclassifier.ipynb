{
 "cells": [
  {
   "cell_type": "code",
   "execution_count": 50,
   "metadata": {},
   "outputs": [],
   "source": [
    "import pandas as pd;\n",
    "import numpy as np;\n",
    "from sklearn.model_selection import train_test_split\n",
    "from sklearn.ensemble import RandomForestClassifier\n",
    "from sklearn.preprocessing import StandardScaler\n",
    "from sklearn import preprocessing"
   ]
  },
  {
   "cell_type": "code",
   "execution_count": 37,
   "metadata": {},
   "outputs": [],
   "source": [
    "df = pd.read_csv(\"./data.csv\");\n",
    "outcome = df['TARGET'];\n",
    "df = df.drop(['TARGET'], axis=1);\n",
    "df = df.drop(['SK_ID_CURR'], axis=1);\n",
    "df = df.iloc[:, :9];\n",
    "df['NAME_CONTRACT_TYPE'] = df['NAME_CONTRACT_TYPE'].apply(lambda o: 0 if o == \"Cash loans\" else 1)\n",
    "df['CODE_GENDER'] = df['CODE_GENDER'].apply(lambda o: 0 if o == \"F\" else 1)\n",
    "df['FLAG_OWN_CAR'] = df['FLAG_OWN_CAR'].apply(lambda o: 0 if o == \"N\" else 1)\n",
    "df['FLAG_OWN_REALTY'] = df['FLAG_OWN_REALTY'].apply(lambda o: 0 if o == \"N\" else 1)\n",
    "df = df.fillna(0);"
   ]
  },
  {
   "cell_type": "code",
   "execution_count": 38,
   "metadata": {},
   "outputs": [],
   "source": [
    "# Split the data for prediction\n",
    "X_train, X_test, y_train, y_test = train_test_split(df, outcome, shuffle=True, random_state=1)"
   ]
  },
  {
   "cell_type": "code",
   "execution_count": 39,
   "metadata": {},
   "outputs": [],
   "source": [
    "# Scale and Standardize Data\n",
    "\n",
    "scaler = StandardScaler()\n",
    "scaler.fit(X_train)\n",
    "\n",
    "X_train = scaler.transform(X_train)\n",
    "X_test = scaler.transform(X_test)"
   ]
  },
  {
   "cell_type": "code",
   "execution_count": 40,
   "metadata": {},
   "outputs": [],
   "source": [
    "# Make prediction\n",
    "clf = RandomForestClassifier(criterion=\"entropy\", max_features=\"sqrt\", max_depth=100, random_state=0)\n",
    "clf.fit(X_train, y_train);\n",
    "accuracy = clf.score(X_test, y_test);"
   ]
  },
  {
   "cell_type": "code",
   "execution_count": 46,
   "metadata": {},
   "outputs": [],
   "source": [
    "# Find most predictive words using information gain\n",
    "importances_sorted = clf.feature_importances_;\n",
    "importances_sorted[::-1].sort();"
   ]
  },
  {
   "cell_type": "code",
   "execution_count": 52,
   "metadata": {},
   "outputs": [
    {
     "data": {
      "text/plain": [
       "[Index(['AMT_ANNUITY'], dtype='object'),\n",
       " Index(['AMT_INCOME_TOTAL'], dtype='object'),\n",
       " Index(['AMT_CREDIT'], dtype='object'),\n",
       " Index(['AMT_GOODS_PRICE'], dtype='object'),\n",
       " Index(['CNT_CHILDREN'], dtype='object'),\n",
       " Index(['FLAG_OWN_REALTY'], dtype='object'),\n",
       " Index(['FLAG_OWN_CAR'], dtype='object'),\n",
       " Index(['CODE_GENDER'], dtype='object'),\n",
       " Index(['NAME_CONTRACT_TYPE'], dtype='object')]"
      ]
     },
     "execution_count": 52,
     "metadata": {},
     "output_type": "execute_result"
    }
   ],
   "source": [
    "top10words = [];\n",
    "for i in range(9):\n",
    "    index = np.where(clf.feature_importances_ == importances_sorted[i]);\n",
    "    top10words.append(df.columns[index[0]]);\n",
    "top10words"
   ]
  },
  {
   "cell_type": "code",
   "execution_count": 48,
   "metadata": {},
   "outputs": [
    {
     "data": {
      "text/plain": [
       "'NAME_CONTRACT_TYPE'"
      ]
     },
     "execution_count": 48,
     "metadata": {},
     "output_type": "execute_result"
    }
   ],
   "source": [
    "df.columns[0]"
   ]
  },
  {
   "cell_type": "code",
   "execution_count": null,
   "metadata": {},
   "outputs": [],
   "source": []
  }
 ],
 "metadata": {
  "kernelspec": {
   "display_name": "Python 3",
   "language": "python",
   "name": "python3"
  },
  "language_info": {
   "codemirror_mode": {
    "name": "ipython",
    "version": 3
   },
   "file_extension": ".py",
   "mimetype": "text/x-python",
   "name": "python",
   "nbconvert_exporter": "python",
   "pygments_lexer": "ipython3",
   "version": "3.8.5"
  }
 },
 "nbformat": 4,
 "nbformat_minor": 4
}
